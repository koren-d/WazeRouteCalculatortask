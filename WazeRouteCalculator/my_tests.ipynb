{
 "cells": [
  {
   "cell_type": "code",
   "execution_count": null,
   "metadata": {},
   "outputs": [
    {
     "name": "stdout",
     "output_type": "stream",
     "text": [
      "[CACHE HIT] Using cached data for Eilat -> Tel Aviv\n",
      "[CACHE] Using cached route time for Eilat -> Tel Aviv: 210.95 minutes\n",
      "[CACHE HIT] Using cached data for Tel Aviv -> Yokneam\n",
      "[CACHE] Using cached route time for Tel Aviv -> Yokneam: 4.266666666666667 minutes\n",
      "[CACHE HIT] Using cached data for Yokneam -> Haifa\n",
      "[CACHE] Using cached route time for Yokneam -> Haifa: 64.51666666666667 minutes\n",
      "Total trip time for the route ['Eilat', 'Tel Aviv', 'Yokneam', 'Haifa'] is 324.73 minutes.\n",
      "Travel logs:\n",
      "Eilat -> Tel Aviv: 210.95 minutes (break: 15 minutes, calculated at 2024-12-13 19:12:44)\n",
      "Tel Aviv -> Yokneam: 4.266666666666667 minutes (break: 10 minutes, calculated at 2024-12-13 19:12:44)\n",
      "Yokneam -> Haifa: 64.51666666666667 minutes (break: 20 minutes, calculated at 2024-12-13 19:13:03)\n"
     ]
    }
   ],
   "source": [
    "from WazeRouteCalculator import WazeRouteCalculator\n",
    "locations = [\"Eilat\", \"Tel Aviv\", \"Yokneam\", \"Haifa\"]\n",
    "\n",
    "breaks = [15, 10, 20]  \n",
    "\n",
    "waze_calculator = WazeRouteCalculator(locations[0], locations[1], region=\"IL\")\n",
    "\n",
    "trip_data = waze_calculator.calculate_total_trip_time_with_logs(locations, breaks)\n",
    "print(f\"Total trip time for the route {locations} is {trip_data['total_trip_time_minutes']:.2f} minutes.\")\n",
    "print(\"Travel logs:\")\n",
    "for route, data in trip_data[\"travel_logs\"].items():\n",
    "    print(f\"{route}: {data['travel_time_minutes']} minutes (break: {data['break_time_minutes']} minutes, calculated at {data['timestamp']})\")\n"
   ]
  },
  {
   "cell_type": "code",
   "execution_count": null,
   "metadata": {},
   "outputs": [],
   "source": [
    "    def print_logs(self):\n",
    "        \"\"\"\n",
    "        Print the travel logs and cache contents in a readable format.\n",
    "        \"\"\"\n",
    "        print(\"Travel Logs:\")\n",
    "        if not self.travel_logs:\n",
    "            print(\"  No travel logs found.\")\n",
    "        else:\n",
    "            for route, data in self.travel_logs.items():\n",
    "                print(f\"  {route}: {data['travel_time_minutes']} minutes (calculated at {data['timestamp']})\")\n",
    "\n",
    "        print(\"\\nCache:\")\n",
    "        if not self.cache:\n",
    "            print(\"  No cache entries found.\")\n",
    "        else:\n",
    "            for route, data in self.cache.items():\n",
    "                print(f\"  {route}: {data['travel_time_minutes']} minutes (cached at {data['timestamp']})\")\n"
   ]
  }
 ],
 "metadata": {
  "language_info": {
   "name": "python"
  }
 },
 "nbformat": 4,
 "nbformat_minor": 2
}

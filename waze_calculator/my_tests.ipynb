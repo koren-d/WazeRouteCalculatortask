{
 "cells": [
  {
   "cell_type": "code",
   "execution_count": 1,
   "metadata": {},
   "outputs": [
    {
     "name": "stdout",
     "output_type": "stream",
     "text": [
      "stage: eilat -> tel aviv from dict\n",
      "stage: tel aviv -> hadera from dict\n",
      "stage: hadera -> haifa from dict\n",
      "Total trip time for the route ['Eilat', 'Tel Aviv', 'Hadera', 'Haifa'] is 444.72 minutes.\n",
      "Recommended departure time to arrive at 2024-12-14 16:00:00 is 2024-12-14 08:35:17.\n"
     ]
    }
   ],
   "source": [
    "from waze_route_calculator import WazeRouteCalculator\n",
    "from datetime import datetime, timedelta\n",
    "WazeRouteCalculator.load_dict()\n",
    "locations = [\"Eilat\", \"Tel Aviv\", \"Hadera\", \"Haifa\"]\n",
    "breaks = [60, 15]  \n",
    "desired_arrival_time = \"2024-12-14 16:00:00\"  \n",
    "\n",
    "waze_calculator = WazeRouteCalculator(locations[0], locations[1], region=\"IL\")\n",
    "\n",
    "trip_data = waze_calculator.calculate_total_trip_time_with_logs(locations, breaks, desired_arrival_time)\n",
    "\n",
    "print(f\"Total trip time for the route {locations} is {trip_data['total_trip_time_minutes']:.2f} minutes.\")\n",
    "\n",
    "print(f\"Recommended departure time to arrive at {desired_arrival_time} is {trip_data['recommended_departure_time']}.\")\n",
    "\n"
   ]
  },
  {
   "cell_type": "code",
   "execution_count": 5,
   "metadata": {},
   "outputs": [
    {
     "name": "stdout",
     "output_type": "stream",
     "text": [
      "stage: eilat -> tel aviv from dict\n",
      "stage: tel aviv -> hadera from dict\n",
      "stage: hadera -> haifa from dict\n",
      "Total trip time for the route ['Eilat', 'Tel Aviv', 'Hadera', 'Haifa'] is 409.95 minutes.\n",
      "Recommended departure time to arrive at 2024-12-14 12:16:12 is 2024-12-14 05:26:15.\n"
     ]
    }
   ],
   "source": [
    "from waze_route_calculator import WazeRouteCalculator\n",
    "from datetime import datetime, timedelta\n",
    "\n",
    "WazeRouteCalculator.load_dict()\n",
    "\n",
    "locations = [\"Eilat\", \"Tel Aviv\", \"Hadera\", \"Haifa\"]\n",
    "breaks = [60, 15]  \n",
    "desired_arrival_time = \"2024-12-14 12:16:12\"  \n",
    "\n",
    "waze_calculator = WazeRouteCalculator(locations[0], locations[1], region=\"IL\")\n",
    "\n",
    "trip_data = waze_calculator.calculate_total_trip_time_with_logs(locations, breaks, desired_arrival_time)\n",
    "\n",
    "print(f\"Total trip time for the route {locations} is {trip_data['total_trip_time_minutes']:.2f} minutes.\")\n",
    "\n",
    "print(f\"Recommended departure time to arrive at {desired_arrival_time} is {trip_data['recommended_departure_time']}.\")\n",
    "\n",
    "\n",
    "WazeRouteCalculator.save_dict()\n"
   ]
  },
  {
   "cell_type": "code",
   "execution_count": 28,
   "metadata": {},
   "outputs": [
    {
     "name": "stdout",
     "output_type": "stream",
     "text": [
      "Route Time: 71.97 minutes\n",
      "Route Distance: 118.27 km\n"
     ]
    }
   ],
   "source": [
    "import logging\n",
    "from waze_route_calculator import WazeRouteCalculator \n",
    "\n",
    "logger = logging.getLogger('waze_route_calculator.WazeRouteCalculator')\n",
    "logger.setLevel(logging.DEBUG)\n",
    "\n",
    "if not logger.handlers:\n",
    "    handler = logging.StreamHandler()\n",
    "    logger.addHandler(handler)\n",
    "\n",
    "from_address = 'Budapest, Hungary'\n",
    "to_address = 'Gyor, Hungary'\n",
    "region = 'EU'\n",
    "vehicle_type = 'MOTORCYCLE'\n",
    "\n",
    "route = WazeRouteCalculator(from_address, to_address, region, vehicle_type)\n",
    "\n",
    "route_time, route_distance = route.calc_route_info()\n",
    "\n",
    "print(f\"Route Time: {route_time:.2f} minutes\")\n",
    "print(f\"Route Distance: {route_distance:.2f} km\")\n"
   ]
  },
  {
   "cell_type": "code",
   "execution_count": null,
   "metadata": {},
   "outputs": [
    {
     "name": "stdout",
     "output_type": "stream",
     "text": [
      "Route Time: 198.82 minutes\n",
      "Route Distance: 348.10 km\n"
     ]
    }
   ],
   "source": [
    "import logging\n",
    "from waze_route_calculator import WazeRouteCalculator  # ייבוא המחלקה מהקובץ הנכון\n",
    "\n",
    "logger = logging.getLogger('waze_route_calculator.WazeRouteCalculator')\n",
    "logger.setLevel(logging.DEBUG)\n",
    "\n",
    "if not logger.handlers:\n",
    "    handler = logging.StreamHandler()\n",
    "    logger.addHandler(handler)\n",
    "\n",
    "from_address = 'Long Branch, New Jersey'\n",
    "to_address = 'New York City, New York'\n",
    "region = 'US'\n",
    "\n",
    "route = WazeRouteCalculator(from_address, to_address, region, avoid_subscription_roads=True)\n",
    "\n",
    "route_time, route_distance = route.calc_route_info()\n",
    "\n",
    "print(f\"Route Time: {route_time:.2f} minutes\")\n",
    "print(f\"Route Distance: {route_distance:.2f} km\")\n"
   ]
  },
  {
   "cell_type": "code",
   "execution_count": 3,
   "metadata": {},
   "outputs": [],
   "source": [
    "import sys\n",
    "sys.path.insert(0, r\"C:\\Users\\koren\\WazeRouteCalculatortask\\waze_calculator\")\n",
    "\n",
    "from WazeRouteCalculator import WazeRouteCalculator\n"
   ]
  }
 ],
 "metadata": {
  "kernelspec": {
   "display_name": "Python 3",
   "language": "python",
   "name": "python3"
  },
  "language_info": {
   "codemirror_mode": {
    "name": "ipython",
    "version": 3
   },
   "file_extension": ".py",
   "mimetype": "text/x-python",
   "name": "python",
   "nbconvert_exporter": "python",
   "pygments_lexer": "ipython3",
   "version": "3.13.1"
  }
 },
 "nbformat": 4,
 "nbformat_minor": 2
}
